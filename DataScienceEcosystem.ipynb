{
 "cells": [
  {
   "cell_type": "markdown",
   "id": "a6aec1d0",
   "metadata": {},
   "source": [
    "# Data Science Tools and Ecosystem"
   ]
  },
  {
   "cell_type": "markdown",
   "id": "30862486",
   "metadata": {},
   "source": [
    "In this notebook, Data Science Tools and Ecosystem are summarized.  \n",
    "  \n",
    "**Objectives:**\n",
    "- popular languages that Data Scientists use\n",
    "- Some of the commonly used libraries in data science\n",
    "- Data Science Tools\n",
    "- arithmetic expressions in Python"
   ]
  },
  {
   "cell_type": "markdown",
   "id": "09ebf3b5",
   "metadata": {},
   "source": [
    "Some of the popular languages that Data Scientists use are:\n",
    "1. Python\n",
    "2. R\n",
    "3. SQL\n",
    "4. Julia"
   ]
  },
  {
   "cell_type": "markdown",
   "id": "aa505efe",
   "metadata": {},
   "source": [
    "Some of the commonly used libraries used by Data Scientists include:\n",
    "1. Pandas\n",
    "2. Scikit learn\n",
    "3. Numpy\n",
    "4. TensorFlow"
   ]
  },
  {
   "cell_type": "markdown",
   "id": "db387e0d",
   "metadata": {},
   "source": [
    "| Data Science Tools |\n",
    "| ------------------ |\n",
    "| Rstudio            |\n",
    "| Jupyter Notebook   |\n",
    "| GitHub             |"
   ]
  },
  {
   "cell_type": "markdown",
   "id": "9a1d96af",
   "metadata": {},
   "source": [
    "### Below are a few examples of evaluating arithmetic expressions in Python\n",
    "- Substraction : y-x\n",
    "- Addition :     y+x\n",
    "- Exponential :  z**a\n",
    "- Division :     a/z"
   ]
  },
  {
   "cell_type": "code",
   "execution_count": 3,
   "id": "80779b84",
   "metadata": {},
   "outputs": [
    {
     "data": {
      "text/plain": [
       "17"
      ]
     },
     "execution_count": 3,
     "metadata": {},
     "output_type": "execute_result"
    }
   ],
   "source": [
    "#This a simple arithmetic expression to mutiply then add integers\n",
    "(3*4)+5"
   ]
  },
  {
   "cell_type": "code",
   "execution_count": 9,
   "id": "bc3a5a46",
   "metadata": {},
   "outputs": [
    {
     "data": {
      "text/plain": [
       "3.3333333333333335"
      ]
     },
     "execution_count": 9,
     "metadata": {},
     "output_type": "execute_result"
    }
   ],
   "source": [
    "#This will convert 200 minutes to hours by diving by 60\n",
    "M=200\n",
    "H=200/60\n",
    "H"
   ]
  },
  {
   "cell_type": "markdown",
   "id": "07818bb8",
   "metadata": {},
   "source": [
    "## Author\n",
    "Ahmed Ben Azzouz"
   ]
  }
 ],
 "metadata": {
  "kernelspec": {
   "display_name": "Python 3 (ipykernel)",
   "language": "python",
   "name": "python3"
  },
  "language_info": {
   "codemirror_mode": {
    "name": "ipython",
    "version": 3
   },
   "file_extension": ".py",
   "mimetype": "text/x-python",
   "name": "python",
   "nbconvert_exporter": "python",
   "pygments_lexer": "ipython3",
   "version": "3.11.5"
  }
 },
 "nbformat": 4,
 "nbformat_minor": 5
}
